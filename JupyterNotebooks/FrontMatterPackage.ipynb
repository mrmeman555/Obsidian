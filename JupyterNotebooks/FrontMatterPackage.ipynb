{
 "cells": [
  {
   "cell_type": "code",
   "execution_count": 1,
   "id": "ddc8f463-d1d8-4f90-aebc-dc1c0414ec6f",
   "metadata": {
    "jupyter": {
     "source_hidden": true
    },
    "tags": []
   },
   "outputs": [
    {
     "name": "stdout",
     "output_type": "stream",
     "text": [
      "Title: My Document\n",
      "Author: John Doe\n",
      "Tags: ['example', 'test']\n",
      "Content: # Heading\n",
      "\n",
      "This is a test document.\n"
     ]
    }
   ],
   "source": [
    "import frontmatter\n",
    "\n",
    "# Sample Markdown content with frontmatter\n",
    "markdown_content = \"\"\"\n",
    "---\n",
    "title: My Document\n",
    "author: John Doe\n",
    "tags: [example, test]\n",
    "---\n",
    "\n",
    "# Heading\n",
    "\n",
    "This is a test document.\n",
    "\"\"\"\n",
    "\n",
    "# Parse the frontmatter\n",
    "post = frontmatter.loads(markdown_content)\n",
    "\n",
    "# Access frontmatter data\n",
    "print(\"Title:\", post['title'])\n",
    "print(\"Author:\", post['author'])\n",
    "print(\"Tags:\", post['tags'])\n",
    "\n",
    "# Access the body content\n",
    "print(\"Content:\", post.content)"
   ]
  },
  {
   "cell_type": "code",
   "execution_count": 9,
   "id": "e195e44a-f4c7-435c-82e5-d33bdf62cc6c",
   "metadata": {
    "tags": []
   },
   "outputs": [
    {
     "name": "stdout",
     "output_type": "stream",
     "text": [
      "Field names and their occurrences:\n",
      "tags: 8\n",
      "Description: 6\n",
      "parent_moc: 6\n",
      "related_notes: 6\n",
      "created: 6\n",
      "updated: 6\n",
      "author: 7\n",
      "status: 7\n",
      "priority: 7\n",
      "title: 1\n",
      "date: 1\n",
      "\n",
      "Discrepancies in field names:\n",
      "Field 'tags' is missing in some files.\n",
      "Field 'Description' is missing in some files.\n",
      "Field 'parent_moc' is missing in some files.\n",
      "Field 'related_notes' is missing in some files.\n",
      "Field 'created' is missing in some files.\n",
      "Field 'updated' is missing in some files.\n",
      "Field 'author' is missing in some files.\n",
      "Field 'status' is missing in some files.\n",
      "Field 'priority' is missing in some files.\n",
      "Field 'title' is missing in some files.\n",
      "Field 'date' is missing in some files.\n",
      "\n",
      "Files missing specific fields:\n",
      "AI Integration with Dynamic Tag File.md is missing fields: tags, Description, parent_moc, related_notes, created, updated, author, status, priority, title, date\n",
      "Comprehensive Guide on Metadata Schema, Dynamic Tag File, and AI Integration.md is missing fields: tags, Description, parent_moc, related_notes, created, updated, author, status, priority, title, date\n",
      "Flashcards Strategy.md is missing fields: title, date\n",
      "Job Leads - use daily.md is missing fields: title, date\n",
      "Journal.md is missing fields: title, date\n",
      "Jupyter Documentation Hub.md is missing fields: Description, parent_moc, related_notes, created, updated\n",
      "Master Moc dataFill.md is missing fields: Description, parent_moc, related_notes, created, updated, author, status, priority, title, date\n",
      "necessary metadata.md is missing fields: title, date\n",
      "Obsidian Note System Overview.md is missing fields: title, date\n",
      "python obsidian packages.md is missing fields: tags, Description, parent_moc, related_notes, created, updated, author, status, priority, title, date\n",
      "Setting Up Git and Automating Backups with Conda.md is missing fields: title, date\n",
      "Things to Do Before My Meeting.md is missing fields: tags, Description, parent_moc, related_notes, created, updated, author, status, priority, title, date\n",
      "Untitled.md is missing fields: tags, Description, parent_moc, related_notes, created, updated, author, status, priority, title, date\n"
     ]
    }
   ],
   "source": [
    "import frontmatter\n",
    "import os\n",
    "from collections import defaultdict\n",
    "\n",
    "# Update this path to your actual Markdown files directory\n",
    "directory = r'C:\\Users\\erinh.HYPERVSERVER\\OneDrive\\ObsidianVaults\\Development\\GroundUpRestart - Backup\\Inbox'\n",
    "\n",
    "# A dictionary to store field names and their counts\n",
    "field_names_count = defaultdict(int)\n",
    "\n",
    "# Function to parse front matter and collect field names\n",
    "def collect_field_names(filepath):\n",
    "    try:\n",
    "        with open(filepath, 'r', encoding='utf-8') as f:\n",
    "            post = frontmatter.load(f)\n",
    "            for key in post.keys():\n",
    "                field_names_count[key] += 1\n",
    "    except Exception as e:\n",
    "        print(f\"Error processing file {filepath}: {e}\")\n",
    "\n",
    "# Check if directory exists\n",
    "if not os.path.isdir(directory):\n",
    "    print(f\"Directory not found: {directory}\")\n",
    "else:\n",
    "    # Process all Markdown files in the directory\n",
    "    markdown_files = [filename for filename in os.listdir(directory) if filename.endswith('.md')]\n",
    "    for filename in markdown_files:\n",
    "        collect_field_names(os.path.join(directory, filename))\n",
    "\n",
    "    # Output all metadata item titles (field names)\n",
    "    print(\"Field names and their occurrences:\")\n",
    "    for field, count in field_names_count.items():\n",
    "        print(f\"{field}: {count}\")\n",
    "\n",
    "    # Identify discrepancies in field names\n",
    "    print(\"\\nDiscrepancies in field names:\")\n",
    "    for field, count in field_names_count.items():\n",
    "        if count < len(markdown_files):\n",
    "            print(f\"Field '{field}' is missing in some files.\")\n",
    "\n",
    "    # Optional: List files missing specific fields\n",
    "    print(\"\\nFiles missing specific fields:\")\n",
    "    for filename in markdown_files:\n",
    "        with open(os.path.join(directory, filename), 'r', encoding='utf-8') as f:\n",
    "            post = frontmatter.load(f)\n",
    "            missing_fields = [field for field in field_names_count if field not in post.keys()]\n",
    "            if missing_fields:\n",
    "                print(f\"{filename} is missing fields: {', '.join(missing_fields)}\")"
   ]
  },
  {
   "cell_type": "code",
   "execution_count": null,
   "id": "aefc3dcb-ff98-48b0-86ed-01ec9a1c1e80",
   "metadata": {},
   "outputs": [],
   "source": []
  }
 ],
 "metadata": {
  "kernelspec": {
   "display_name": "Python (Obsidian_env_3_10)",
   "language": "python",
   "name": "obsidian_env_3_10"
  },
  "language_info": {
   "codemirror_mode": {
    "name": "ipython",
    "version": 3
   },
   "file_extension": ".py",
   "mimetype": "text/x-python",
   "name": "python",
   "nbconvert_exporter": "python",
   "pygments_lexer": "ipython3",
   "version": "3.10.14"
  }
 },
 "nbformat": 4,
 "nbformat_minor": 5
}
