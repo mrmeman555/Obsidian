{
 "cells": [
  {
   "cell_type": "code",
   "execution_count": 2,
   "id": "790d3d1e-f5cd-4654-80f3-0c96039fb862",
   "metadata": {
    "tags": []
   },
   "outputs": [
    {
     "name": "stdout",
     "output_type": "stream",
     "text": [
      "Tags and their corresponding files and descriptions have been saved to tags_with_files_and_descriptions.txt\n"
     ]
    }
   ],
   "source": [
    "import os\n",
    "import re\n",
    "import yaml\n",
    "from collections import defaultdict\n",
    "\n",
    "# Define the path to your Obsidian vault\n",
    "vault_path = \"C:/Users/erinh.HYPERVSERVER/OneDrive/ObsidianVaults/Development/GroundUpRestart - Backup\"\n",
    "\n",
    "def extract_metadata(file_path):\n",
    "    \"\"\"Extracts tags and description from a markdown file.\"\"\"\n",
    "    tags = set()\n",
    "    description = \"No description available\"\n",
    "    try:\n",
    "        with open(file_path, 'r', encoding='utf-8') as file:\n",
    "            content = file.read()\n",
    "            yaml_match = re.search(r'^---\\n(.*?)\\n---', content, re.DOTALL)\n",
    "            if yaml_match:\n",
    "                yaml_content = yaml_match.group(1)\n",
    "                yaml_content_clean = '\\n'.join(line for line in yaml_content.split('\\n') if '{{' not in line and '}}' not in line)\n",
    "                yaml_data = yaml.safe_load(yaml_content_clean)\n",
    "                if yaml_data:\n",
    "                    tags.update(yaml_data.get('tags', []))\n",
    "                    description = yaml_data.get('Description', description)\n",
    "    except Exception as e:\n",
    "        print(f\"Error reading {file_path}: {e}\")\n",
    "    return tags, description\n",
    "\n",
    "def collect_tags(vault_path):\n",
    "    \"\"\"Collects tags and their corresponding files and descriptions from the vault.\"\"\"\n",
    "    tags_dict = defaultdict(list)\n",
    "    for root, _, files in os.walk(vault_path):\n",
    "        for file in files:\n",
    "            if file.endswith('.md'):\n",
    "                file_path = os.path.join(root, file)\n",
    "                tags, description = extract_metadata(file_path)\n",
    "                for tag in tags:\n",
    "                    tags_dict[tag].append((file_path, description))\n",
    "    return tags_dict\n",
    "\n",
    "def save_tags_to_file(tags_dict, output_file):\n",
    "    \"\"\"Saves the tags and their corresponding files and descriptions to a file.\"\"\"\n",
    "    with open(output_file, \"w\", encoding='utf-8') as f:\n",
    "        for tag, entries in tags_dict.items():\n",
    "            f.write(f\"Tag: {tag}\\n\")\n",
    "            for file, description in entries:\n",
    "                f.write(f\" - {file}: {description}\\n\")\n",
    "            f.write(\"\\n\")\n",
    "    print(f\"Tags and their corresponding files and descriptions have been saved to {output_file}\")\n",
    "\n",
    "def main():\n",
    "    \"\"\"Main function to extract and save tags.\"\"\"\n",
    "    tags_dict = collect_tags(vault_path)\n",
    "    output_file = \"tags_with_files_and_descriptions.txt\"\n",
    "    save_tags_to_file(tags_dict, output_file)\n",
    "\n",
    "if __name__ == \"__main__\":\n",
    "    main()"
   ]
  },
  {
   "cell_type": "code",
   "execution_count": null,
   "id": "44f5d74a-4c60-4b88-ace0-87183c32f6be",
   "metadata": {},
   "outputs": [],
   "source": []
  }
 ],
 "metadata": {
  "kernelspec": {
   "display_name": "Python (Obsidian_env_3_10)",
   "language": "python",
   "name": "obsidian_env_3_10"
  },
  "language_info": {
   "codemirror_mode": {
    "name": "ipython",
    "version": 3
   },
   "file_extension": ".py",
   "mimetype": "text/x-python",
   "name": "python",
   "nbconvert_exporter": "python",
   "pygments_lexer": "ipython3",
   "version": "3.10.14"
  }
 },
 "nbformat": 4,
 "nbformat_minor": 5
}
